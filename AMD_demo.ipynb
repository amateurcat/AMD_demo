{
 "cells": [
  {
   "cell_type": "code",
   "execution_count": 1,
   "id": "201d6313-53a7-4099-8b0d-3cd4b20207ba",
   "metadata": {},
   "outputs": [],
   "source": [
    "%load_ext autoreload\n",
    "%autoreload 2"
   ]
  },
  {
   "cell_type": "code",
   "execution_count": 2,
   "id": "c1fa3b95-d7d9-478e-9a18-7ac598088027",
   "metadata": {},
   "outputs": [
    {
     "name": "stdout",
     "output_type": "stream",
     "text": [
      "you are using /home/shuhao/softwares/miniconda3/envs/autoani/lib/python3.8/site-packages/torchani/\n"
     ]
    }
   ],
   "source": [
    "import numpy as np\n",
    "import h5py, os,pathlib, torch, torchani, copy\n",
    "from torchani.models import ANI1x \n",
    "from pathlib import Path\n",
    "\n",
    "from trainer import *\n",
    "from sampler import *"
   ]
  },
  {
   "cell_type": "code",
   "execution_count": 3,
   "id": "3ce76487-35ff-43f5-a0cc-8651ff5509df",
   "metadata": {
    "tags": []
   },
   "outputs": [
    {
     "name": "stdout",
     "output_type": "stream",
     "text": [
      "training starting from epoch 1\n",
      "RMSE: 92.88716841242558 at epoch 2\n"
     ]
    },
    {
     "name": "stderr",
     "output_type": "stream",
     "text": [
      "epoch 1: 100%|██████████| 47/47 [00:03<00:00, 13.23it/s]"
     ]
    },
    {
     "name": "stdout",
     "output_type": "stream",
     "text": [
      "best RMSE at this time is:92.887\n"
     ]
    },
    {
     "name": "stderr",
     "output_type": "stream",
     "text": [
      "\n"
     ]
    },
    {
     "name": "stdout",
     "output_type": "stream",
     "text": [
      "extra sampling done, new datapoints saved to /home/shuhao/AMD_demo/pool/ext1.h5\n",
      "1 al epoch done!\n",
      "training starting from epoch 1\n",
      "RMSE: 76.41433596536204 at epoch 2\n"
     ]
    },
    {
     "name": "stderr",
     "output_type": "stream",
     "text": [
      "epoch 1: 100%|██████████| 47/47 [00:03<00:00, 13.26it/s]"
     ]
    },
    {
     "name": "stdout",
     "output_type": "stream",
     "text": [
      "best RMSE at this time is:76.414\n"
     ]
    },
    {
     "name": "stderr",
     "output_type": "stream",
     "text": [
      "\n"
     ]
    },
    {
     "name": "stdout",
     "output_type": "stream",
     "text": [
      "extra sampling done, new datapoints saved to /home/shuhao/AMD_demo/pool/ext2.h5\n",
      "extra sampling done, new datapoints saved to /home/shuhao/AMD_demo/pool/ext2.h5\n",
      "2 al epoch done!\n"
     ]
    }
   ],
   "source": [
    "pooldir = Path('/home/shuhao/AMD_demo/pool')\n",
    "\n",
    "MAX_AL_EPOCH = 2\n",
    "\n",
    "gpu_list = [\"cuda:1\"]\n",
    "\n",
    "model = torchani.models.ANI1x().to(gpu_list[0])\n",
    "#we will train on relative energy, so disable the energy_shifter in the model\n",
    "model.energy_shifter.self_energies = torch.tensor([ 0.0, 0.0, 0.0, 0.0]).double().to(gpu_list[0])\n",
    "\n",
    "for epoch in range(MAX_AL_EPOCH):\n",
    "    energy_shifter = torchani.utils.EnergyShifter(None)\n",
    "    training, validation = torchani.data.load(pooldir).subtract_self_energies(energy_shifter).species_to_indices().split(0.8, None)\n",
    "    training = training.collate(batch_size).cache()\n",
    "    validation = validation.collate(batch_size).cache()\n",
    "    model = train(model, training, validation)\n",
    "    \n",
    "    new_dataset = pooldir/('ext%d.h5'%(epoch+1))\n",
    "    #I do not have multiple GPU on this test machine for sampling, so just use the same one\n",
    "    model_pool = [model]\n",
    "    for h5file in pooldir.glob('*.h5'):\n",
    "        _ = dataset_sampler(h5file, model_pool, save_to=str(new_dataset))\n",
    "    print(\"%d al epoch done!\"%(epoch+1))\n",
    "    "
   ]
  },
  {
   "cell_type": "code",
   "execution_count": null,
   "id": "0569cfe9-5084-4553-b2d5-40dfe490b251",
   "metadata": {},
   "outputs": [],
   "source": []
  }
 ],
 "metadata": {
  "kernelspec": {
   "display_name": "Python 3 (ipykernel)",
   "language": "python",
   "name": "python3"
  },
  "language_info": {
   "codemirror_mode": {
    "name": "ipython",
    "version": 3
   },
   "file_extension": ".py",
   "mimetype": "text/x-python",
   "name": "python",
   "nbconvert_exporter": "python",
   "pygments_lexer": "ipython3",
   "version": "3.8.10"
  }
 },
 "nbformat": 4,
 "nbformat_minor": 5
}
